{
 "cells": [
  {
   "cell_type": "code",
   "execution_count": null,
   "id": "670a0af6-b04e-430b-aa99-caf8dae379d4",
   "metadata": {},
   "outputs": [],
   "source": [
    "import pandas as pd\n",
    "import numpy as np\n",
    "import seaborn as sb\n",
    "import matplotlib.pyplot as plt"
   ]
  },
  {
   "cell_type": "code",
   "execution_count": null,
   "id": "60ae786a-b48b-41ed-887c-7f466fd7f904",
   "metadata": {},
   "outputs": [],
   "source": [
    "diabetes_df = pd.read_csv('diabetes_prediction_dataset.csv')"
   ]
  },
  {
   "cell_type": "markdown",
   "id": "3764b0c3-a6ca-47e0-be66-1f52877da329",
   "metadata": {},
   "source": [
    "## Exploration of Data"
   ]
  },
  {
   "cell_type": "code",
   "execution_count": null,
   "id": "827ac788-3583-4979-97f2-34450c854422",
   "metadata": {},
   "outputs": [],
   "source": [
    "diabetes_df.head()"
   ]
  },
  {
   "cell_type": "code",
   "execution_count": null,
   "id": "bca81b13-19a6-4c02-b618-91f1da87a02f",
   "metadata": {},
   "outputs": [],
   "source": [
    "diabetes_df.info() #Displays the information of the dataset "
   ]
  },
  {
   "cell_type": "code",
   "execution_count": null,
   "id": "18c969d2-ce0a-47f5-88f3-02c7c3774280",
   "metadata": {},
   "outputs": [],
   "source": [
    "diabetes_df.describe() #Gives statistical data"
   ]
  },
  {
   "cell_type": "code",
   "execution_count": null,
   "id": "4ec56152-4f63-4219-9b8f-fea5052330ea",
   "metadata": {},
   "outputs": [],
   "source": [
    "diabetes_df.isnull().sum() #checks for missing/null values"
   ]
  },
  {
   "cell_type": "code",
   "execution_count": null,
   "id": "787570e5-c7a9-47a4-8590-600d7c060915",
   "metadata": {},
   "outputs": [],
   "source": [
    "diabetes_df.isnull().sum() #checks for missing/null values"
   ]
  },
  {
   "cell_type": "code",
   "execution_count": null,
   "id": "71198727-649a-4a5f-88f4-06dc859bf0eb",
   "metadata": {},
   "outputs": [],
   "source": [
    "#Encode categorical variables (gender, smoknig history)\n",
    "from sklearn.preprocessing import LabelEncoder\n",
    "\n",
    "le = LabelEncoder()\n",
    "\n",
    "categorical_columns = ['gender', 'smoking_history']\n",
    "for column in categorical_columns:\n",
    "    diabetes_df[column] = LabelEncoder().fit_transform(diabetes_df[column])"
   ]
  },
  {
   "cell_type": "code",
   "execution_count": null,
   "id": "1ec56f2e-478f-47db-aca7-7c8dacb20c2d",
   "metadata": {},
   "outputs": [],
   "source": [
    "#TODO Find/show anomalies (we have to find which columns to investigate or investigate all of them)"
   ]
  },
  {
   "cell_type": "code",
   "execution_count": null,
   "id": "2e5b0890-789c-4796-ab72-aa2721b091dd",
   "metadata": {},
   "outputs": [],
   "source": [
    "#Correlation Matrxi\n",
    "plt.figure(figsize=(12, 8))\n",
    "correlation_matrix = diabetes_df.corr()\n",
    "sb.heatmap(correlation_matrix, annot=True, vmin=-1, vmax=1)\n",
    "plt.title('Correlation Matrix')\n",
    "plt.show()"
   ]
  },
  {
   "cell_type": "code",
   "execution_count": null,
   "id": "2dd86d83-eeec-480c-917c-c1e7e804b5da",
   "metadata": {},
   "outputs": [],
   "source": [
    "#Display class imbalance\n",
    "\n",
    "#grab counts\n",
    "counts = diabetes_df[diabetes_df.columns[-1]].value_counts()\n",
    "\n",
    "# Plot the imbalance\n",
    "plt.figure(figsize=(8, 6))\n",
    "sb.barplot(x=counts.index, y=counts.values)\n",
    "plt.title('Imbalance of Values in Dataset (Target) Column')\n",
    "plt.xlabel('Class')\n",
    "plt.ylabel('Frequency')\n",
    "plt.xticks(ticks=[0, 1], labels=['No Diabetes', 'Has Diabetes'])\n",
    "plt.show()"
   ]
  },
  {
   "cell_type": "code",
   "execution_count": null,
   "id": "91d00b9d-0796-4027-9f17-e0f8fe318a12",
   "metadata": {},
   "outputs": [],
   "source": [
    "#Explore the data using visualization TODO add more visualizations\n",
    "\n",
    "#Pairplot\n",
    "sb.pairplot(diabetes_df)\n",
    "plt.suptitle('Pairplot of Features Colored by Dataset', y=1.02)\n",
    "plt.show()"
   ]
  },
  {
   "cell_type": "code",
   "execution_count": null,
   "id": "61fc891e-8852-4cad-b522-a694bdc1c553",
   "metadata": {},
   "outputs": [],
   "source": [
    "#histoplot\n",
    "plt.figure(figsize=(12, 8))\n",
    "for column in diabetes_df.columns[:-1]:  # Exclude the target column\n",
    "    sb.histplot(diabetes_df[column], label=column)\n",
    "plt.title('Histogram of Numerical Features')\n",
    "plt.legend()\n",
    "plt.show()"
   ]
  },
  {
   "cell_type": "code",
   "execution_count": null,
   "id": "89f6f540-072e-4ad4-a7e9-0740c3a1f18c",
   "metadata": {},
   "outputs": [],
   "source": [
    "#Boxplot\n",
    "plt.figure(figsize=(12, 8))\n",
    "sb.boxplot(data=diabetes_df.drop(columns=['diabetes']))\n",
    "plt.title('Boxplot of Numerical Features')\n",
    "plt.xticks(rotation=45)\n",
    "plt.show()"
   ]
  },
  {
   "cell_type": "markdown",
   "id": "dee7a62d-0dfb-491c-8ab8-5e879cead717",
   "metadata": {},
   "source": [
    "## Preprocessing of Data"
   ]
  },
  {
   "cell_type": "code",
   "execution_count": null,
   "id": "595fc640-4f37-43d0-93d4-92d684bd4f24",
   "metadata": {},
   "outputs": [],
   "source": [
    "diabetes_df = diabetes_df.drop_duplicates(keep='first') # drops the duplicate entries in the data set\n",
    "\n",
    "diabetes_df.duplicated().sum()"
   ]
  },
  {
   "cell_type": "code",
   "execution_count": null,
   "id": "1613a2f2-02c5-4ed4-bd64-de2add6f63cf",
   "metadata": {},
   "outputs": [],
   "source": [
    "#TODO Remove anomalies if any"
   ]
  },
  {
   "cell_type": "code",
   "execution_count": null,
   "id": "467eb517-36b9-427a-bce5-f2d2b914af79",
   "metadata": {},
   "outputs": [],
   "source": [
    "#splitting target from data\n",
    "data = diabetes_df[diabetes_df.columns[:-1]]\n",
    "target = diabetes_df[diabetes_df.columns[-1]]"
   ]
  },
  {
   "cell_type": "code",
   "execution_count": null,
   "id": "c243b4b4-35d4-4007-b0d7-c4b6b7c90031",
   "metadata": {},
   "outputs": [],
   "source": [
    "from sklearn.preprocessing import StandardScaler \n",
    "\n",
    "# Initializes StandardScaler\n",
    "scaler = StandardScaler()\n",
    "\n",
    "# Fit and transform the data \n",
    "scaled_data = scaler.fit_transform(data)"
   ]
  },
  {
   "cell_type": "code",
   "execution_count": null,
   "id": "578d6b59-0a80-4c8f-a0b6-8db857118582",
   "metadata": {},
   "outputs": [],
   "source": [
    "#Balance classes with SMOTE\n",
    "import imblearn\n",
    "from imblearn.over_sampling import SMOTE\n",
    "\n",
    "sm = SMOTE(random_state=42)\n",
    "x,y = sm.fit_resample(scaled_data, target)"
   ]
  },
  {
   "cell_type": "code",
   "execution_count": null,
   "id": "82378d99-e1ac-4e71-8f5e-39f5704f34dc",
   "metadata": {},
   "outputs": [],
   "source": [
    "from sklearn.model_selection import train_test_split\n",
    "\n",
    "# Split the data into training and testing sets\n",
    "X_train, X_test, y_train, y_test = train_test_split(x, y, test_size=0.2, random_state=42)\n",
    "\n",
    "(X_train.shape, X_test.shape, y_train.shape, y_test.shape)"
   ]
  },
  {
   "cell_type": "markdown",
   "id": "c2afc7e3-2611-4e1b-a46b-23b7f0c3faf3",
   "metadata": {},
   "source": [
    "## Training the Models"
   ]
  },
  {
   "cell_type": "code",
   "execution_count": null,
   "id": "777ee9e7-f442-4c1f-91fa-adc673ec3d57",
   "metadata": {},
   "outputs": [],
   "source": [
    "#Logistic regression\n",
    "#Naives bayes\n",
    "#KNN\n",
    "#Random forest\n",
    "#Decision tree\n",
    "#Bagging\n",
    "#AdaBoost\n",
    "#XGBoost\n",
    "#Voting\n",
    "#SVM\n",
    "#Neural Network\n",
    "#Deep Neural Network\n",
    "\n",
    "#Top Models we will run\n",
    "#GridSearchCV\n",
    "#RFE feature selection"
   ]
  },
  {
   "cell_type": "markdown",
   "id": "7f529804-35a9-461e-a084-80d82ca31d53",
   "metadata": {},
   "source": [
    "### Standalone Models"
   ]
  },
  {
   "cell_type": "code",
   "execution_count": null,
   "id": "d1ae7ab3-e38e-4410-a4fb-e0239bcfe743",
   "metadata": {},
   "outputs": [],
   "source": [
    "#Logistic Regression - Vance\n",
    "from sklearn.linear_model import LogisticRegression\n",
    "\n",
    "Logistic_regression_model = LogisticRegression(random_state=42).fit(X_train, y_train)\n",
    "\n",
    "pred_log_reg = Logistic_regression_model.predict(X_test)"
   ]
  },
  {
   "cell_type": "code",
   "execution_count": null,
   "id": "8ea75982-e937-461b-9159-51c0552fb482",
   "metadata": {},
   "outputs": [],
   "source": [
    "#Naive Bayes - Jesus\n",
    "from sklearn.naive_bayes import GaussianNB\n",
    "\n",
    "nb_model = GaussianNB()\n",
    "nb_model.fit(X_train, y_train)\n",
    "\n",
    "pred_nb = nb_model.predict(X_test)"
   ]
  },
  {
   "cell_type": "code",
   "execution_count": null,
   "id": "af8b3cc2-ea94-4091-9746-5a19e995466d",
   "metadata": {},
   "outputs": [],
   "source": [
    "#KNN - Joshua"
   ]
  },
  {
   "cell_type": "code",
   "execution_count": null,
   "id": "5da7f36e-3d05-4b1c-becd-163369facffb",
   "metadata": {},
   "outputs": [],
   "source": [
    "#Random Forest - Joshua"
   ]
  },
  {
   "cell_type": "code",
   "execution_count": null,
   "id": "050e1cfd-93e9-471b-8d8c-073353265eab",
   "metadata": {},
   "outputs": [],
   "source": [
    "#Decision Tree - "
   ]
  },
  {
   "cell_type": "code",
   "execution_count": null,
   "id": "69de0a12-37f9-42d4-bd1f-c4a3ff9a9819",
   "metadata": {},
   "outputs": [],
   "source": [
    "#SVM - Jesus"
   ]
  },
  {
   "cell_type": "code",
   "execution_count": null,
   "id": "4cab34a0-69ac-4c0f-ad82-d83a7996a3e7",
   "metadata": {},
   "outputs": [],
   "source": [
    "#Neural Network"
   ]
  },
  {
   "cell_type": "markdown",
   "id": "488d21b3-fcf7-4c7d-ad4f-d86f365d5503",
   "metadata": {},
   "source": [
    "### Combination Models"
   ]
  },
  {
   "cell_type": "code",
   "execution_count": null,
   "id": "b7bc7bfa-488a-4a1d-8898-61dc2709e78b",
   "metadata": {},
   "outputs": [],
   "source": [
    "#Bagging - "
   ]
  },
  {
   "cell_type": "code",
   "execution_count": null,
   "id": "e580a9f7-43b9-455c-a6d1-f536cdc9d53d",
   "metadata": {},
   "outputs": [],
   "source": [
    "#AdaBoost - "
   ]
  },
  {
   "cell_type": "code",
   "execution_count": null,
   "id": "e38c5e8b-baa7-4847-8128-59c1d5e35738",
   "metadata": {},
   "outputs": [],
   "source": [
    "#XGBoost - "
   ]
  },
  {
   "cell_type": "code",
   "execution_count": null,
   "id": "ca5ebc9a-9be8-4cd5-99a5-77fd73e44618",
   "metadata": {},
   "outputs": [],
   "source": [
    "#Voting - "
   ]
  },
  {
   "cell_type": "code",
   "execution_count": null,
   "id": "9052e266-5f0a-49ed-bc82-487d86f9bdd7",
   "metadata": {},
   "outputs": [],
   "source": [
    "#Deep Neural Network - Vance"
   ]
  },
  {
   "cell_type": "markdown",
   "id": "8f999a9d-75a5-4998-92a8-3b5a21d3b0e9",
   "metadata": {},
   "source": [
    "## Comparing the Models"
   ]
  },
  {
   "cell_type": "markdown",
   "id": "b1819402-c9b8-497b-b091-546b0b087474",
   "metadata": {},
   "source": [
    "https://scikit-learn.org/stable/modules/model_evaluation.html#classification-metrics"
   ]
  },
  {
   "cell_type": "code",
   "execution_count": null,
   "id": "696a1d96-7a4c-4ddb-98bd-3990a25849f9",
   "metadata": {},
   "outputs": [],
   "source": [
    "from sklearn.metrics import confusion_matrix, ConfusionMatrixDisplay, accuracy_score, precision_score, recall_score, f1_score\n",
    "from sklearn.metrics import roc_auc_score, class_likelihood_ratios, matthews_corrcoef\n",
    "\n",
    "def evaluate(y_pred):\n",
    "    accuracy = accuracy_score(y_test, y_pred)\n",
    "    precision = precision_score(y_test, y_pred)\n",
    "    recall = recall_score(y_test, y_pred)\n",
    "    f1 = f1_score(y_test, y_pred)\n",
    "    auc = roc_auc_score(y_test, y_pred)\n",
    "    clr = class_likelihood_ratios(y_test, y_pred)\n",
    "    mtc = matthews_corrcoef(y_test, y_pred)\n",
    "\n",
    "    results = {\n",
    "        'accuracy': accuracy,\n",
    "        'precision': precision,\n",
    "        'recall': recall,\n",
    "        'f1': f1,\n",
    "        'auc': auc,\n",
    "        'matthews_corrcoef': mtc,\n",
    "        'class likelihood': clr,\n",
    "    }\n",
    "\n",
    "    return results\n",
    "\n",
    "def display(y_pred):\n",
    "    # Generate matrix\n",
    "    cm = confusion_matrix(y_test, y_pred)\n",
    "    # Display confusion matrix\n",
    "    disp = ConfusionMatrixDisplay(confusion_matrix=cm, display_labels=['Diabetes (1)', 'No Diabetes (0)'])\n",
    "    disp.plot()\n",
    "    plt.title('Confusion Matrix Tree')\n",
    "    plt.show()\n"
   ]
  },
  {
   "cell_type": "code",
   "execution_count": null,
   "id": "649a2c94-b883-4853-90bc-576b4d01eebc",
   "metadata": {},
   "outputs": [],
   "source": []
  },
  {
   "cell_type": "markdown",
   "id": "74862708-aa18-4dfa-800b-91786ba71afd",
   "metadata": {},
   "source": [
    "## Feature Selection & GridSearchCV on the Top Models"
   ]
  },
  {
   "cell_type": "code",
   "execution_count": null,
   "id": "958c10f1-6a8e-4c03-9eea-4e9bf9d939a6",
   "metadata": {},
   "outputs": [],
   "source": []
  },
  {
   "cell_type": "code",
   "execution_count": null,
   "id": "62ad541a-42fc-4371-82ba-27abc62dbed9",
   "metadata": {},
   "outputs": [],
   "source": []
  },
  {
   "cell_type": "markdown",
   "id": "bffacec8-8df8-4e1f-b356-0d901902caf3",
   "metadata": {},
   "source": [
    "## Recomparing the Models"
   ]
  },
  {
   "cell_type": "code",
   "execution_count": null,
   "id": "8668c951-2fca-46cc-ae61-0734de46c5e5",
   "metadata": {},
   "outputs": [],
   "source": []
  },
  {
   "cell_type": "code",
   "execution_count": null,
   "id": "cb1e0b5c-fea7-45b5-9869-497cff76aadf",
   "metadata": {},
   "outputs": [],
   "source": []
  },
  {
   "cell_type": "markdown",
   "id": "bdf5abb6-5452-4e5d-95c5-f9192ac71286",
   "metadata": {},
   "source": [
    "## Final Observations"
   ]
  },
  {
   "cell_type": "code",
   "execution_count": null,
   "id": "e17f771b-6168-4a86-bb9a-882d71cfb431",
   "metadata": {},
   "outputs": [],
   "source": []
  }
 ],
 "metadata": {
  "kernelspec": {
   "display_name": "Python 3 (ipykernel)",
   "language": "python",
   "name": "python3"
  },
  "language_info": {
   "codemirror_mode": {
    "name": "ipython",
    "version": 3
   },
   "file_extension": ".py",
   "mimetype": "text/x-python",
   "name": "python",
   "nbconvert_exporter": "python",
   "pygments_lexer": "ipython3",
   "version": "3.11.7"
  }
 },
 "nbformat": 4,
 "nbformat_minor": 5
}
